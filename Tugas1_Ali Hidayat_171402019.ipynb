{
 "cells": [
  {
   "cell_type": "code",
   "execution_count": 7,
   "metadata": {},
   "outputs": [
    {
     "data": {
      "text/plain": [
       "3628800"
      ]
     },
     "execution_count": 7,
     "metadata": {},
     "output_type": "execute_result"
    }
   ],
   "source": [
    "def rekursif(a):\n",
    "    if a == 0:\n",
    "        return a\n",
    "    elif a == 1:\n",
    "        return 1\n",
    "    else:\n",
    "        return (a * rekursif(a-1))\n",
    "\n",
    "# rekursif(0)\n",
    "# rekursif(1)\n",
    "rekursif(10)"
   ]
  },
  {
   "cell_type": "code",
   "execution_count": 9,
   "metadata": {},
   "outputs": [
    {
     "data": {
      "text/plain": [
       "3628800"
      ]
     },
     "execution_count": 9,
     "metadata": {},
     "output_type": "execute_result"
    }
   ],
   "source": [
    "class Fibonacci_rekursif:\n",
    "    def rekursif(a):\n",
    "        if a == 0:\n",
    "            return a\n",
    "        elif a == 1:\n",
    "            return 1\n",
    "        else:\n",
    "            return (a * rekursif(a-1))\n",
    "\n",
    "    \n",
    "# rekursif(0)\n",
    "# rekursif(1)\n",
    "rekursif(10)"
   ]
  },
  {
   "cell_type": "code",
   "execution_count": 17,
   "metadata": {},
   "outputs": [
    {
     "name": "stdout",
     "output_type": "stream",
     "text": [
      "Masukkan Panjang urutan Fibonacci :1\n"
     ]
    },
    {
     "ename": "NameError",
     "evalue": "name 'fibo' is not defined",
     "output_type": "error",
     "traceback": [
      "\u001b[1;31m---------------------------------------------------------------------------\u001b[0m",
      "\u001b[1;31mNameError\u001b[0m                                 Traceback (most recent call last)",
      "\u001b[1;32m<ipython-input-17-c5e8427cee2b>\u001b[0m in \u001b[0;36m<module>\u001b[1;34m\u001b[0m\n\u001b[0;32m     13\u001b[0m \u001b[1;33m\u001b[0m\u001b[0m\n\u001b[0;32m     14\u001b[0m \u001b[0mobj\u001b[0m \u001b[1;33m=\u001b[0m \u001b[0mFibonacci_rekursif\u001b[0m\u001b[1;33m\u001b[0m\u001b[1;33m\u001b[0m\u001b[0m\n\u001b[1;32m---> 15\u001b[1;33m \u001b[0mfibo\u001b[0m\u001b[1;33m(\u001b[0m\u001b[1;33m)\u001b[0m\u001b[1;33m\u001b[0m\u001b[1;33m\u001b[0m\u001b[0m\n\u001b[0m",
      "\u001b[1;31mNameError\u001b[0m: name 'fibo' is not defined"
     ]
    }
   ],
   "source": [
    "#Hmmmm\n",
    "class Fibonacci_rekursif:\n",
    "    \n",
    "    panjang_urutan = int(input(\"Masukkan Panjang urutan Fibonacci :\"))\n",
    "    def fibo(panjang_urutan):\n",
    "        \n",
    "        if panjang_urutan == 0:\n",
    "            return panjang_urutan\n",
    "        elif panjang_urutan == 1:\n",
    "            return 1\n",
    "        else:\n",
    "            return (panjang_urutan * rekursif(a-1))\n",
    "\n",
    "obj = Fibonacci_rekursif #???\n",
    "fibo()"
   ]
  },
  {
   "cell_type": "code",
   "execution_count": 28,
   "metadata": {},
   "outputs": [
    {
     "name": "stdout",
     "output_type": "stream",
     "text": [
      "Masukkan nilai: -1\n"
     ]
    }
   ],
   "source": [
    "# Bagaimana jika diinput nilai minus? -.-\n",
    "class Fibonacci_rekursif:\n",
    "    def Fibo(a, b):\n",
    "            if b ==0:\n",
    "                return b\n",
    "            elif b <= 2:\n",
    "                return b\n",
    "            else:\n",
    "                c = (a.Fibo(b-1)+a.Fibo(b-2)) # rumus fibonacci\n",
    "                return c\n",
    "\n",
    "obj = Fibonacci_rekursif()\n",
    "panjang_urutan = int(input(\"Masukkan nilai: \"))\n",
    "\n",
    "if(panjang_urutan == 0):\n",
    "    print(\"0\")\n",
    "else:\n",
    "    for i in range (0,panjang_urutan):\n",
    "        print(obj.Fibo(i))"
   ]
  },
  {
   "cell_type": "code",
   "execution_count": 37,
   "metadata": {},
   "outputs": [
    {
     "name": "stdout",
     "output_type": "stream",
     "text": [
      "Masukkan nilai: 23\n",
      "0\n",
      "1\n",
      "2\n",
      "3\n",
      "5\n",
      "8\n",
      "13\n",
      "21\n",
      "34\n",
      "55\n",
      "89\n",
      "144\n",
      "233\n",
      "377\n",
      "610\n",
      "987\n",
      "1597\n",
      "2584\n",
      "4181\n",
      "6765\n",
      "10946\n",
      "17711\n",
      "28657\n"
     ]
    }
   ],
   "source": [
    "# Fixed!!!\n",
    "\n",
    "class Fibonacci_rekursif:\n",
    "    def Fibo(a, b):\n",
    "            if b ==0:\n",
    "                return b\n",
    "            elif b <= 2:\n",
    "                return b\n",
    "            else:\n",
    "                c = (a.Fibo(b-1) + a.Fibo(b-2)) # rumus fibonacci\n",
    "                return c\n",
    "\n",
    "obj = Fibonacci_rekursif()\n",
    "panjang_urutan = int(input(\"Masukkan nilai: \"))\n",
    "\n",
    "if(panjang_urutan < 0):\n",
    "    print(\"Error: Nilai panjang urutan tidak boleh minus!\")\n",
    "elif(panjang_urutan == 0):\n",
    "    print(\"0\")\n",
    "else:\n",
    "    for i in range(0,panjang_urutan):\n",
    "        print(obj.Fibo(i))"
   ]
  },
  {
   "cell_type": "code",
   "execution_count": null,
   "metadata": {},
   "outputs": [],
   "source": []
  }
 ],
 "metadata": {
  "kernelspec": {
   "display_name": "Python 3",
   "language": "python",
   "name": "python3"
  },
  "language_info": {
   "codemirror_mode": {
    "name": "ipython",
    "version": 3
   },
   "file_extension": ".py",
   "mimetype": "text/x-python",
   "name": "python",
   "nbconvert_exporter": "python",
   "pygments_lexer": "ipython3",
   "version": "3.7.5"
  }
 },
 "nbformat": 4,
 "nbformat_minor": 2
}
